{
 "cells": [
  {
   "cell_type": "code",
   "execution_count": 2,
   "id": "040efd81-d664-44b8-885e-1ee702a0552d",
   "metadata": {},
   "outputs": [
    {
     "name": "stdin",
     "output_type": "stream",
     "text": [
      "Enter the number of employees:  4\n",
      "Enter salary of employee:  1234\n",
      "Enter salary of employee:  3456\n",
      "Enter salary of employee:  5778\n",
      "Enter salary of employee:  6789\n"
     ]
    },
    {
     "name": "stdout",
     "output_type": "stream",
     "text": [
      "Minimum salary is: 1234.0\n",
      "Maximum salary is: 6789.0\n"
     ]
    }
   ],
   "source": [
    "# Program to find minimum and maximum salary among n employees without using built-in functions\n",
    "\n",
    "n = int(input(\"Enter the number of employees: \"))\n",
    "salaries = []\n",
    "\n",
    "for i in range(n):\n",
    "    sal = float(input(\"Enter salary of employee: \"))\n",
    "    salaries.append(sal)\n",
    "    \n",
    "min_salary = salaries[0]\n",
    "max_salary = salaries[0]\n",
    "\n",
    "for salary in salaries:\n",
    "    if salary < min_salary:\n",
    "        min_salary = salary\n",
    "    if salary > max_salary:\n",
    "        max_salary = salary\n",
    "\n",
    "print(\"Minimum salary is:\", min_salary)\n",
    "print(\"Maximum salary is:\", max_salary)\n",
    "\n"
   ]
  },
  {
   "cell_type": "code",
   "execution_count": 3,
   "id": "06ee9131-b537-48ce-9c69-0f0e2f4f98a2",
   "metadata": {},
   "outputs": [
    {
     "name": "stdin",
     "output_type": "stream",
     "text": [
      "Enter the number of employees:  3\n",
      "Enter salary of employee 1:  2345\n",
      "Enter salary of employee 2:  6789\n",
      "Enter salary of employee 3:  5678\n"
     ]
    },
    {
     "name": "stdout",
     "output_type": "stream",
     "text": [
      "Salaries : (2345.0, 6789.0, 5678.0)\n",
      "Minimum salary is: 2345.0\n",
      "Maximum salary is: 6789.0\n"
     ]
    }
   ],
   "source": [
    "## Program to find minimum and maximum salary among n employees with using built-in functions min and max\n",
    "\n",
    "n = int(input(\"Enter the number of employees: \"))\n",
    "temp_list = []\n",
    "for i in range(n):\n",
    "    sal = float(input(f\"Enter salary of employee {i + 1}: \"))\n",
    "    temp_list.append(sal)\n",
    "salaries = tuple(temp_list)\n",
    "min_salary = min(salaries)\n",
    "max_salary = max(salaries)\n",
    "print(\"Salaries :\", salaries)\n",
    "print(\"Minimum salary is:\", min_salary)\n",
    "print(\"Maximum salary is:\", max_salary)\n"
   ]
  },
  {
   "cell_type": "code",
   "execution_count": 4,
   "id": "6f4bbda9-6da6-4740-a56e-858c3158ce33",
   "metadata": {},
   "outputs": [
    {
     "name": "stdin",
     "output_type": "stream",
     "text": [
      "Enter the number of employees:  3\n",
      "Enter name of employee :  somu\n",
      "Enter number of employee:  45\n",
      "Enter name of employee :  raju\n",
      "Enter number of employee:  34\n",
      "Enter name of employee :  ravi\n",
      "Enter number of employee:  23\n"
     ]
    },
    {
     "name": "stdout",
     "output_type": "stream",
     "text": [
      "\n",
      "Employee Details:\n",
      "somu: 45\n",
      "raju: 34\n",
      "ravi: 23\n"
     ]
    }
   ],
   "source": [
    "# Program to input employee names and numbers and store in a dictionary\n",
    "\n",
    "n = int(input(\"Enter the number of employees: \"))\n",
    "dict = {}\n",
    "for i in range(n):\n",
    "    name = input(\"Enter name of employee : \")#key\n",
    "    number = input(\"Enter number of employee: \")#value\n",
    "    dict[name] = number  \n",
    "\n",
    "print(\"\\nEmployee Details:\")\n",
    "for name, number in dict.items():\n",
    "    print(f\"{name}: {number}\")\n"
   ]
  },
  {
   "cell_type": "code",
   "execution_count": null,
   "id": "23358424-b504-4542-809a-58c101b486d8",
   "metadata": {},
   "outputs": [],
   "source": []
  }
 ],
 "metadata": {
  "kernelspec": {
   "display_name": "Python 3 (ipykernel)",
   "language": "python",
   "name": "python3"
  },
  "language_info": {
   "codemirror_mode": {
    "name": "ipython",
    "version": 3
   },
   "file_extension": ".py",
   "mimetype": "text/x-python",
   "name": "python",
   "nbconvert_exporter": "python",
   "pygments_lexer": "ipython3",
   "version": "3.11.7"
  }
 },
 "nbformat": 4,
 "nbformat_minor": 5
}
