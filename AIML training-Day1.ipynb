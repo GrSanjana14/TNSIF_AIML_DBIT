{
 "cells": [
  {
   "cell_type": "code",
   "execution_count": 1,
   "id": "999cf4d0-b5d0-48aa-b617-41d8acb1d166",
   "metadata": {},
   "outputs": [
    {
     "name": "stdout",
     "output_type": "stream",
     "text": [
      "Only 3 attempts allowed to enter PIN.\n"
     ]
    },
    {
     "name": "stdin",
     "output_type": "stream",
     "text": [
      "Enter PIN:  1234\n"
     ]
    },
    {
     "name": "stdout",
     "output_type": "stream",
     "text": [
      "1.Balance  2.Deposit  3.Withdraw\n"
     ]
    },
    {
     "name": "stdin",
     "output_type": "stream",
     "text": [
      "Choice:  1\n"
     ]
    },
    {
     "name": "stdout",
     "output_type": "stream",
     "text": [
      "Balance: 5000\n"
     ]
    }
   ],
   "source": [
    "#Build a simple ATM simulation. User must:Enter correct PIN (e.g., 1234)Can perform withdraw, deposit, or check balanceOnly 3 attempts allowed for PIN\n",
    "\n",
    "pin = \"1234\"\n",
    "bal = 5000\n",
    "\n",
    "print(\"Only 3 attempts allowed to enter PIN.\")\n",
    "\n",
    "for i in range(3):\n",
    "    if input(\"Enter PIN: \") == pin:\n",
    "        print(\"1.Balance  2.Deposit  3.Withdraw\")\n",
    "        ch = input(\"Choice: \")\n",
    "        if ch == \"1\":\n",
    "            print(\"Balance:\", bal)\n",
    "        elif ch == \"2\":\n",
    "            bal += int(input(\"Amount: \"))\n",
    "            print(\"Balance:\", bal)\n",
    "        elif ch == \"3\":\n",
    "            amt = int(input(\"Amount: \"))\n",
    "            if amt <= bal:\n",
    "                bal -= amt\n",
    "                print(\"Balance:\", bal)\n",
    "            else:\n",
    "                print(\"Insufficient balance\")\n",
    "        break\n",
    "    else:\n",
    "        print(f\"Wrong PIN. Attempts left: {2 - i}\")\n",
    "else:\n",
    "    print(\"Card Blocked. 3 wrong attempts.\")\n"
   ]
  },
  {
   "cell_type": "code",
   "execution_count": null,
   "id": "8ad1f7ad-20dd-4f96-a9ad-ed9d63d49364",
   "metadata": {},
   "outputs": [],
   "source": []
  }
 ],
 "metadata": {
  "kernelspec": {
   "display_name": "Python 3 (ipykernel)",
   "language": "python",
   "name": "python3"
  },
  "language_info": {
   "codemirror_mode": {
    "name": "ipython",
    "version": 3
   },
   "file_extension": ".py",
   "mimetype": "text/x-python",
   "name": "python",
   "nbconvert_exporter": "python",
   "pygments_lexer": "ipython3",
   "version": "3.11.7"
  }
 },
 "nbformat": 4,
 "nbformat_minor": 5
}
