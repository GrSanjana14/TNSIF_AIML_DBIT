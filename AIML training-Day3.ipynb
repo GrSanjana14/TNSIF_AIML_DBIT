{
 "cells": [
  {
   "cell_type": "code",
   "execution_count": 1,
   "id": "67df50f6-4637-40f7-b2e5-0c8da9fbc483",
   "metadata": {},
   "outputs": [
    {
     "name": "stdin",
     "output_type": "stream",
     "text": [
      "Enter number:  1\n",
      "Enter number:  3\n",
      "Enter number:  5\n",
      "Enter number:  7\n",
      "Enter number:  9\n",
      "Enter number:  0\n",
      "Enter number:  6\n",
      "Enter number:  4\n",
      "Enter number:  78\n",
      "Enter number:  84\n"
     ]
    },
    {
     "name": "stdout",
     "output_type": "stream",
     "text": [
      "Final list after removing third element and all odd numbers:\n",
      "[0, 6, 4, 78, 84]\n"
     ]
    }
   ],
   "source": [
    "#Accept a list with numbers having 10 elements. Remove the third element and all odd elements.\n",
    "\n",
    "numbers = []\n",
    "for i in range(10):\n",
    "    num = int(input(\"Enter number: \"))\n",
    "    numbers.append(num)\n",
    "if len(numbers) >= 3:\n",
    "    del numbers[2]\n",
    "filtered_numbers = [num for num in numbers if num % 2 == 0]\n",
    "print(\"Final list after removing third element and all odd numbers:\")\n",
    "print(filtered_numbers)\n"
   ]
  },
  {
   "cell_type": "code",
   "execution_count": null,
   "id": "73c0d012-0502-4170-aa8d-f37838f03f96",
   "metadata": {},
   "outputs": [],
   "source": []
  }
 ],
 "metadata": {
  "kernelspec": {
   "display_name": "Python 3 (ipykernel)",
   "language": "python",
   "name": "python3"
  },
  "language_info": {
   "codemirror_mode": {
    "name": "ipython",
    "version": 3
   },
   "file_extension": ".py",
   "mimetype": "text/x-python",
   "name": "python",
   "nbconvert_exporter": "python",
   "pygments_lexer": "ipython3",
   "version": "3.11.7"
  }
 },
 "nbformat": 4,
 "nbformat_minor": 5
}
