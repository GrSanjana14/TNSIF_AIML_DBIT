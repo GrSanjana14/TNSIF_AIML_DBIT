{
 "cells": [
  {
   "cell_type": "code",
   "execution_count": 2,
   "id": "ed9ef3fc-1968-4222-bb89-05242d96407a",
   "metadata": {},
   "outputs": [
    {
     "name": "stdout",
     "output_type": "stream",
     "text": [
      "[1 2 3 4 5]\n",
      "[[1 2 3]\n",
      " [4 5 6]]\n",
      "[ 2  4  6  8 10]\n",
      "[ 2  4  6  8 10]\n",
      "[[ 0  1  2  3]\n",
      " [ 4  5  6  7]\n",
      " [ 8  9 10 11]]\n",
      "[[19 22]\n",
      " [43 50]]\n",
      "Mean:0.00043945512736827917,std:1.0154614412734944\n"
     ]
    }
   ],
   "source": [
    "import numpy as np\n",
    "#creating array\n",
    "arr1=np.array([1,2,3,4,5])\n",
    "arr2=np.array([[1,2,3],[4,5,6]])\n",
    "print(arr1)\n",
    "print(arr2)\n",
    "\n",
    "\n",
    "#array operations\n",
    "print(arr1 * 2)\n",
    "print(arr1+arr1)\n",
    "\n",
    "#reshaping\n",
    "arr3=np.arange(12).reshape(3,4)\n",
    "print(arr3)\n",
    "\n",
    "#matix operation\n",
    "matrix1=np.array([[1,2],[3,4]])\n",
    "matrix2=np.array([[5,6],[7,8]])\n",
    "print(np.dot(matrix1,matrix2))\n",
    "\n",
    "#statistical operations\n",
    "data=np.random.normal(0,1,1000)\n",
    "print(f\"Mean:{data.mean()},std:{data.std()}\")\n",
    "\n"
   ]
  },
  {
   "cell_type": "code",
   "execution_count": null,
   "id": "07357df8-3328-42ff-b5ed-5176c92b3c98",
   "metadata": {},
   "outputs": [],
   "source": [
    "import pandas as pd\n",
    "import numpy as np\n",
    "\n",
    "# Creating dataFrames\n",
    "data = {\n",
    "    'Name': ['Alice', 'Bob', 'Charlie', 'David'],\n",
    "    'Age': [25, 30, 35, 40],\n",
    "    'Salary': [50000, 60000, 70000, 80000]\n",
    "}\n",
    "df = pd.DataFrame(data)\n",
    "print(df)\n",
    "\n",
    "# Reading from CSV (commented out)\n",
    "# df = pd.read_csv('data.csv')\n",
    "\n",
    "# Basic operations\n",
    "print(df.head(2))  # First 2 rows\n",
    "print(df.describe())  # Summary statistics\n",
    "print(df['Age'].mean())  # Average age\n",
    "\n",
    "# Data Selection\n",
    "print(df[df['Age'] > 30])  # Filtering\n",
    "print(df.loc[1:2, ['Name', 'Salary']])  # Selection by label\n",
    "\n",
    "# Handling missing data\n",
    "df_with_nan = pd.DataFrame({\n",
    "    'A': [1, 2, np.nan, 4],\n",
    "    'B': [5, np.nan, np.nan, 8]\n",
    "})\n",
    "print(df_with_nan.fillna(value=0))  # Replace NaN with 0\n",
    "print(df_with_nan.dropna())  # Drop rows with NaN\n",
    "\n",
    "# Grouping and aggregation\n",
    "df['Department'] = ['HR', 'Tech', 'Tech', 'HR']\n",
    "# Fix: Explicitly select numeric columns for aggregation\n",
    "print(df.groupby('Department')[['Age', 'Salary']].mean())  # Average by department\n",
    "\n",
    "# Merging DataFrames (like SQL joins)\n",
    "df2 = pd.DataFrame({\n",
    "    'Name': ['Alice', 'Bob', 'Eve'],\n",
    "    'Bonus': [2000, 1500, 3000]\n",
    "})\n",
    "print(pd.merge(df, df2, on='Name', how='left'))  # Left join\n",
    "\n",
    "# Time series functionality\n",
    "date_rng = pd.date_range(start='1/1/2023', end='1/10/2023', freq='D')\n",
    "ts = pd.DataFrame(date_rng, columns=['date'])\n",
    "ts['value'] = np.random.randint(0, 100, size=(len(date_rng)))\n",
    "ts.set_index('date', inplace=True)\n",
    "print(ts.resample('3D').mean())  # Resample to 3-day periods"
   ]
  }
 ],
 "metadata": {
  "kernelspec": {
   "display_name": "Python 3 (ipykernel)",
   "language": "python",
   "name": "python3"
  },
  "language_info": {
   "codemirror_mode": {
    "name": "ipython",
    "version": 3
   },
   "file_extension": ".py",
   "mimetype": "text/x-python",
   "name": "python",
   "nbconvert_exporter": "python",
   "pygments_lexer": "ipython3",
   "version": "3.11.7"
  }
 },
 "nbformat": 4,
 "nbformat_minor": 5
}
