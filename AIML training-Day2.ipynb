{
 "cells": [
  {
   "cell_type": "code",
   "execution_count": 2,
   "id": "8c4f6cf1-7e2c-4d54-9561-6b21af67317a",
   "metadata": {},
   "outputs": [
    {
     "name": "stdin",
     "output_type": "stream",
     "text": [
      "Enter name:  sanjana\n"
     ]
    },
    {
     "name": "stdout",
     "output_type": "stream",
     "text": [
      "s\n",
      "n\n",
      "j\n",
      "n\n"
     ]
    }
   ],
   "source": [
    "#Write a program that accepts a name from the user and prints all the consonants in the name.\n",
    "\n",
    "n = input('Enter name: ')\n",
    "\n",
    "for i in n:\n",
    "    if i in 'aeiouAEIOU':\n",
    "        continue\n",
    "    else:\n",
    "        print(i)\n"
   ]
  },
  {
   "cell_type": "code",
   "execution_count": 3,
   "id": "ab85612c-10be-46a3-988e-0fa5cf1e0acc",
   "metadata": {},
   "outputs": [
    {
     "name": "stdin",
     "output_type": "stream",
     "text": [
      "enter a number 301\n"
     ]
    },
    {
     "name": "stdout",
     "output_type": "stream",
     "text": [
      "sum exceeded 300.total sum is: 301\n"
     ]
    }
   ],
   "source": [
    "#Write a Python program that continuously accepts numbers from the user and finds their sum. The program should stop when the total sum exceeds 300 and then display the final sum.\n",
    "\n",
    "total=0\n",
    "while True:\n",
    "    num=int(input(\"enter a number\"))\n",
    "    total=total+num\n",
    "    if total>300:\n",
    "        print(\"sum exceeded 300.total sum is:\",total)\n",
    "        break"
   ]
  },
  {
   "cell_type": "code",
   "execution_count": 4,
   "id": "0298c914-b147-453d-a9fb-be8e2ae14558",
   "metadata": {},
   "outputs": [
    {
     "name": "stdin",
     "output_type": "stream",
     "text": [
      "enter string sanju\n",
      "enter string samarjith\n",
      "enter string bon\n"
     ]
    },
    {
     "name": "stdout",
     "output_type": "stream",
     "text": [
      "voyage\n"
     ]
    }
   ],
   "source": [
    "#Write a program that keeps accepting strings until ‘Bon’ is entered. The program should display ‘Voyage’ and quit execution\n",
    "\n",
    "while True:\n",
    "    s=input(\"enter string\")\n",
    "    if s==\"bon\":\n",
    "        print (\"voyage\")\n",
    "        break"
   ]
  },
  {
   "cell_type": "code",
   "execution_count": 6,
   "id": "3f296395-d5f1-4930-8079-db3baec002d1",
   "metadata": {},
   "outputs": [
    {
     "name": "stdin",
     "output_type": "stream",
     "text": [
      "Enter your door number and street 37/2 xyz\n"
     ]
    },
    {
     "name": "stdout",
     "output_type": "stream",
     "text": [
      "Numbers in the address: 372\n"
     ]
    }
   ],
   "source": [
    "#Write a program that accepts the door number and street of the user and displays only the numbers present in the string.\n",
    "\n",
    "address = input(\"Enter your door number and street\")\n",
    "numbers = \"\"\n",
    "for i in address:\n",
    "    if '0' <= i <= '9':\n",
    "        numbers += i\n",
    "print(\"Numbers in the address:\", numbers)\n"
   ]
  },
  {
   "cell_type": "code",
   "execution_count": 10,
   "id": "379309f9-a671-478e-bfce-66ee779a47a3",
   "metadata": {},
   "outputs": [
    {
     "name": "stdin",
     "output_type": "stream",
     "text": [
      "Enter first element:  aa\n",
      "Enter second element:  12\n",
      "Enter third element:  34\n",
      "Enter fourth element:  ghh\n",
      "Enter fifth element:  89\n",
      "Enter name:  tyyhhu\n"
     ]
    },
    {
     "name": "stdout",
     "output_type": "stream",
     "text": [
      "Updated list: ['aa', '12', 'tyyhhu', 'ghh', 'tyyhhu']\n"
     ]
    }
   ],
   "source": [
    "#Accept a list from the user with 5 elements. Accept name of user and replace the third and fifth elements of the list with the user’s name.\n",
    "\n",
    "a = input(\"Enter first element: \")\n",
    "b = input(\"Enter second element: \")\n",
    "c = input(\"Enter third element: \")\n",
    "d = input(\"Enter fourth element: \")\n",
    "e = input(\"Enter fifth element: \")\n",
    "list = [a, b, c, d, e]\n",
    "\n",
    "name = input(\"Enter name: \")\n",
    "list[2] = name\n",
    "list[4] = name\n",
    "print(\"Updated list:\", list)\n"
   ]
  },
  {
   "cell_type": "code",
   "execution_count": 6,
   "id": "e35dded3-c9db-4a7c-b4cf-d719249198e7",
   "metadata": {},
   "outputs": [
    {
     "name": "stdin",
     "output_type": "stream",
     "text": [
      "Enter elements :  red yellow green blue\n",
      "Enter index:  2\n",
      "Enter new element:  pink\n"
     ]
    },
    {
     "name": "stdout",
     "output_type": "stream",
     "text": [
      "Updated list: ['red', 'yellow', 'pink', 'green', 'blue']\n"
     ]
    }
   ],
   "source": [
    "#Write a program that accepts a list from the user and two other inputs: The index where a new element has to be inserted and the element itself. The program should check if the index value given by the user is valid. If it is not, then a message should state that the new element will be appended\n",
    "\n",
    "list_input = input(\"Enter elements : \")\n",
    "list = list_input.split()  # Convert string to list\n",
    "i = int(input(\"Enter index: \"))\n",
    "e = input(\"Enter new element: \")\n",
    "if i >= 0 and i <= len(list):\n",
    "    list.insert(i, e)\n",
    "else:\n",
    "    print(\"Invalid index, element will not be appended.\")\n",
    "    list.append(e)\n",
    "\n",
    "print(\"Updated list:\", list)\n"
   ]
  },
  {
   "cell_type": "code",
   "execution_count": null,
   "id": "a8bb3ede-7a00-4e3b-9df5-78e288dfc7a5",
   "metadata": {},
   "outputs": [],
   "source": []
  }
 ],
 "metadata": {
  "kernelspec": {
   "display_name": "Python 3 (ipykernel)",
   "language": "python",
   "name": "python3"
  },
  "language_info": {
   "codemirror_mode": {
    "name": "ipython",
    "version": 3
   },
   "file_extension": ".py",
   "mimetype": "text/x-python",
   "name": "python",
   "nbconvert_exporter": "python",
   "pygments_lexer": "ipython3",
   "version": "3.11.7"
  }
 },
 "nbformat": 4,
 "nbformat_minor": 5
}
